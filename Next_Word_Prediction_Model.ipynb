{
  "cells": [
    {
      "cell_type": "code",
      "execution_count": 1,
      "metadata": {
        "id": "lONbGNGvtMzu"
      },
      "outputs": [],
      "source": [
        "import numpy as np\n",
        "import tensorflow as tf\n",
        "from tensorflow.keras.preprocessing.text import Tokenizer\n",
        "from tensorflow.keras.preprocessing.sequence import pad_sequences\n",
        "from tensorflow.keras.models import Sequential\n",
        "from tensorflow.keras.layers import Embedding, LSTM, Dense\n"
      ]
    },
    {
      "cell_type": "code",
      "execution_count": 3,
      "metadata": {
        "id": "RxAwRw8utgDe"
      },
      "outputs": [],
      "source": [
        "\n",
        "# Read the text file\n",
        "with open('sample_data/sherlock-holm.es_stories_plain-text_advs.txt', 'r', encoding='utf-8') as file:\n",
        "    text = file.read()"
      ]
    },
    {
      "cell_type": "code",
      "execution_count": 4,
      "metadata": {
        "id": "vLedPHGmt1u0"
      },
      "outputs": [],
      "source": [
        "tokenizer = Tokenizer()\n",
        "tokenizer.fit_on_texts([text])\n",
        "total_words = len(tokenizer.word_index) + 1"
      ]
    },
    {
      "cell_type": "code",
      "execution_count": 5,
      "metadata": {
        "id": "pwqXs5Btt7M_"
      },
      "outputs": [],
      "source": [
        "input_sequences = []\n",
        "for line in text.split('\\n'):\n",
        "    token_list = tokenizer.texts_to_sequences([line])[0]\n",
        "    for i in range(1, len(token_list)):\n",
        "        n_gram_sequence = token_list[:i+1]\n",
        "        input_sequences.append(n_gram_sequence)"
      ]
    },
    {
      "cell_type": "code",
      "execution_count": 6,
      "metadata": {
        "id": "p2AAMwyJuB5t"
      },
      "outputs": [],
      "source": [
        "max_sequence_len = max([len(seq) for seq in input_sequences])\n",
        "input_sequences = np.array(pad_sequences(input_sequences, maxlen=max_sequence_len, padding='pre'))"
      ]
    },
    {
      "cell_type": "code",
      "execution_count": 7,
      "metadata": {
        "id": "RyZuxHE3uGSQ"
      },
      "outputs": [],
      "source": [
        "X = input_sequences[:, :-1]\n",
        "y = input_sequences[:, -1]"
      ]
    },
    {
      "cell_type": "code",
      "execution_count": 8,
      "metadata": {
        "id": "Qyu6mhP0uH5N"
      },
      "outputs": [],
      "source": [
        "y = np.array(tf.keras.utils.to_categorical(y, num_classes=total_words))"
      ]
    },
    {
      "cell_type": "code",
      "execution_count": 9,
      "metadata": {
        "id": "_kKWc0eouIEr"
      },
      "outputs": [],
      "source": [
        "model = Sequential()\n",
        "model.add(Embedding(total_words, 100, input_length=max_sequence_len-1))\n",
        "model.add(LSTM(150))\n",
        "model.add(Dense(total_words, activation='softmax'))\n"
      ]
    },
    {
      "cell_type": "code",
      "execution_count": 10,
      "metadata": {
        "colab": {
          "base_uri": "https://localhost:8080/"
        },
        "id": "UT_e4QJ9uRTG",
        "outputId": "e4b39b3e-85c9-4a60-b2af-4a74b20dfe14"
      },
      "outputs": [
        {
          "name": "stdout",
          "output_type": "stream",
          "text": [
            "Model: \"sequential\"\n",
            "_________________________________________________________________\n",
            " Layer (type)                Output Shape              Param #   \n",
            "=================================================================\n",
            " embedding (Embedding)       (None, 17, 100)           820000    \n",
            "                                                                 \n",
            " lstm (LSTM)                 (None, 150)               150600    \n",
            "                                                                 \n",
            " dense (Dense)               (None, 8200)              1238200   \n",
            "                                                                 \n",
            "=================================================================\n",
            "Total params: 2208800 (8.43 MB)\n",
            "Trainable params: 2208800 (8.43 MB)\n",
            "Non-trainable params: 0 (0.00 Byte)\n",
            "_________________________________________________________________\n",
            "None\n"
          ]
        }
      ],
      "source": [
        "print(model.summary())"
      ]
    },
    {
      "cell_type": "code",
      "execution_count": 11,
      "metadata": {
        "colab": {
          "base_uri": "https://localhost:8080/"
        },
        "id": "3g6uvMcMuTaH",
        "outputId": "913d6145-4cef-4d28-f223-02b5266559c0"
      },
      "outputs": [
        {
          "name": "stdout",
          "output_type": "stream",
          "text": [
            "Epoch 1/100\n",
            "3010/3010 [==============================] - 95s 31ms/step - loss: 6.2317 - accuracy: 0.0767\n",
            "Epoch 2/100\n",
            "3010/3010 [==============================] - 94s 31ms/step - loss: 5.5106 - accuracy: 0.1242\n",
            "Epoch 3/100\n",
            "3010/3010 [==============================] - 93s 31ms/step - loss: 5.1312 - accuracy: 0.1458\n",
            "Epoch 4/100\n",
            "3010/3010 [==============================] - 96s 32ms/step - loss: 4.8014 - accuracy: 0.1646\n",
            "Epoch 5/100\n",
            "3010/3010 [==============================] - 95s 32ms/step - loss: 4.4961 - accuracy: 0.1824\n",
            "Epoch 6/100\n",
            "3010/3010 [==============================] - 94s 31ms/step - loss: 4.2061 - accuracy: 0.2035\n",
            "Epoch 7/100\n",
            "3010/3010 [==============================] - 94s 31ms/step - loss: 3.9288 - accuracy: 0.2277\n",
            "Epoch 8/100\n",
            "3010/3010 [==============================] - 94s 31ms/step - loss: 3.6669 - accuracy: 0.2584\n",
            "Epoch 9/100\n",
            "3010/3010 [==============================] - 94s 31ms/step - loss: 3.4202 - accuracy: 0.2915\n",
            "Epoch 10/100\n",
            "3010/3010 [==============================] - 94s 31ms/step - loss: 3.1911 - accuracy: 0.3268\n",
            "Epoch 11/100\n",
            "3010/3010 [==============================] - 94s 31ms/step - loss: 2.9781 - accuracy: 0.3634\n",
            "Epoch 12/100\n",
            "3010/3010 [==============================] - 93s 31ms/step - loss: 2.7836 - accuracy: 0.3985\n",
            "Epoch 13/100\n",
            "3010/3010 [==============================] - 94s 31ms/step - loss: 2.6042 - accuracy: 0.4324\n",
            "Epoch 14/100\n",
            "3010/3010 [==============================] - 93s 31ms/step - loss: 2.4402 - accuracy: 0.4638\n",
            "Epoch 15/100\n",
            "3010/3010 [==============================] - 93s 31ms/step - loss: 2.2895 - accuracy: 0.4938\n",
            "Epoch 16/100\n",
            "3010/3010 [==============================] - 94s 31ms/step - loss: 2.1517 - accuracy: 0.5218\n",
            "Epoch 17/100\n",
            "3010/3010 [==============================] - 93s 31ms/step - loss: 2.0243 - accuracy: 0.5486\n",
            "Epoch 18/100\n",
            "3010/3010 [==============================] - 93s 31ms/step - loss: 1.9084 - accuracy: 0.5726\n",
            "Epoch 19/100\n",
            "3010/3010 [==============================] - 93s 31ms/step - loss: 1.8010 - accuracy: 0.5952\n",
            "Epoch 20/100\n",
            "3010/3010 [==============================] - 94s 31ms/step - loss: 1.7051 - accuracy: 0.6143\n",
            "Epoch 21/100\n",
            "3010/3010 [==============================] - 93s 31ms/step - loss: 1.6139 - accuracy: 0.6363\n",
            "Epoch 22/100\n",
            "3010/3010 [==============================] - 94s 31ms/step - loss: 1.5327 - accuracy: 0.6536\n",
            "Epoch 23/100\n",
            "3010/3010 [==============================] - 93s 31ms/step - loss: 1.4567 - accuracy: 0.6688\n",
            "Epoch 24/100\n",
            "3010/3010 [==============================] - 93s 31ms/step - loss: 1.3872 - accuracy: 0.6851\n",
            "Epoch 25/100\n",
            "3010/3010 [==============================] - 93s 31ms/step - loss: 1.3254 - accuracy: 0.6987\n",
            "Epoch 26/100\n",
            "3010/3010 [==============================] - 94s 31ms/step - loss: 1.2631 - accuracy: 0.7120\n",
            "Epoch 27/100\n",
            "3010/3010 [==============================] - 93s 31ms/step - loss: 1.2102 - accuracy: 0.7246\n",
            "Epoch 28/100\n",
            "3010/3010 [==============================] - 93s 31ms/step - loss: 1.1618 - accuracy: 0.7342\n",
            "Epoch 29/100\n",
            "3010/3010 [==============================] - 94s 31ms/step - loss: 1.1159 - accuracy: 0.7442\n",
            "Epoch 30/100\n",
            "3010/3010 [==============================] - 95s 31ms/step - loss: 1.0733 - accuracy: 0.7554\n",
            "Epoch 31/100\n",
            "3010/3010 [==============================] - 94s 31ms/step - loss: 1.0307 - accuracy: 0.7650\n",
            "Epoch 32/100\n",
            "3010/3010 [==============================] - 94s 31ms/step - loss: 0.9997 - accuracy: 0.7698\n",
            "Epoch 33/100\n",
            "3010/3010 [==============================] - 94s 31ms/step - loss: 0.9625 - accuracy: 0.7781\n",
            "Epoch 34/100\n",
            "3010/3010 [==============================] - 94s 31ms/step - loss: 0.9312 - accuracy: 0.7856\n",
            "Epoch 35/100\n",
            "3010/3010 [==============================] - 93s 31ms/step - loss: 0.9059 - accuracy: 0.7906\n",
            "Epoch 36/100\n",
            "3010/3010 [==============================] - 90s 30ms/step - loss: 0.8759 - accuracy: 0.7980\n",
            "Epoch 37/100\n",
            "3010/3010 [==============================] - 91s 30ms/step - loss: 0.8520 - accuracy: 0.8026\n",
            "Epoch 38/100\n",
            "3010/3010 [==============================] - 93s 31ms/step - loss: 0.8277 - accuracy: 0.8075\n",
            "Epoch 39/100\n",
            "3010/3010 [==============================] - 94s 31ms/step - loss: 0.8076 - accuracy: 0.8121\n",
            "Epoch 40/100\n",
            "3010/3010 [==============================] - 93s 31ms/step - loss: 0.7883 - accuracy: 0.8172\n",
            "Epoch 41/100\n",
            "3010/3010 [==============================] - 93s 31ms/step - loss: 0.7693 - accuracy: 0.8207\n",
            "Epoch 42/100\n",
            "3010/3010 [==============================] - 95s 31ms/step - loss: 0.7576 - accuracy: 0.8216\n",
            "Epoch 43/100\n",
            "3010/3010 [==============================] - 94s 31ms/step - loss: 0.7347 - accuracy: 0.8271\n",
            "Epoch 44/100\n",
            "3010/3010 [==============================] - 93s 31ms/step - loss: 0.7234 - accuracy: 0.8287\n",
            "Epoch 45/100\n",
            "3010/3010 [==============================] - 93s 31ms/step - loss: 0.7100 - accuracy: 0.8319\n",
            "Epoch 46/100\n",
            "3010/3010 [==============================] - 93s 31ms/step - loss: 0.6962 - accuracy: 0.8347\n",
            "Epoch 47/100\n",
            "3010/3010 [==============================] - 93s 31ms/step - loss: 0.6860 - accuracy: 0.8358\n",
            "Epoch 48/100\n",
            "3010/3010 [==============================] - 93s 31ms/step - loss: 0.6726 - accuracy: 0.8403\n",
            "Epoch 49/100\n",
            "3010/3010 [==============================] - 93s 31ms/step - loss: 0.6632 - accuracy: 0.8418\n",
            "Epoch 50/100\n",
            "3010/3010 [==============================] - 93s 31ms/step - loss: 0.6565 - accuracy: 0.8428\n",
            "Epoch 51/100\n",
            "3010/3010 [==============================] - 93s 31ms/step - loss: 0.6459 - accuracy: 0.8452\n",
            "Epoch 52/100\n",
            "3010/3010 [==============================] - 94s 31ms/step - loss: 0.6346 - accuracy: 0.8474\n",
            "Epoch 53/100\n",
            "3010/3010 [==============================] - 94s 31ms/step - loss: 0.6329 - accuracy: 0.8467\n",
            "Epoch 54/100\n",
            "3010/3010 [==============================] - 93s 31ms/step - loss: 0.6206 - accuracy: 0.8491\n",
            "Epoch 55/100\n",
            "3010/3010 [==============================] - 93s 31ms/step - loss: 0.6150 - accuracy: 0.8507\n",
            "Epoch 56/100\n",
            "3010/3010 [==============================] - 93s 31ms/step - loss: 0.6078 - accuracy: 0.8519\n",
            "Epoch 57/100\n",
            "3010/3010 [==============================] - 93s 31ms/step - loss: 0.6015 - accuracy: 0.8537\n",
            "Epoch 58/100\n",
            "3010/3010 [==============================] - 93s 31ms/step - loss: 0.5981 - accuracy: 0.8540\n",
            "Epoch 59/100\n",
            "3010/3010 [==============================] - 94s 31ms/step - loss: 0.5904 - accuracy: 0.8560\n",
            "Epoch 60/100\n",
            "3010/3010 [==============================] - 93s 31ms/step - loss: 0.5866 - accuracy: 0.8557\n",
            "Epoch 61/100\n",
            "3010/3010 [==============================] - 94s 31ms/step - loss: 0.5853 - accuracy: 0.8554\n",
            "Epoch 62/100\n",
            "3010/3010 [==============================] - 94s 31ms/step - loss: 0.5767 - accuracy: 0.8573\n",
            "Epoch 63/100\n",
            "3010/3010 [==============================] - 93s 31ms/step - loss: 0.5695 - accuracy: 0.8596\n",
            "Epoch 64/100\n",
            "3010/3010 [==============================] - 93s 31ms/step - loss: 0.5770 - accuracy: 0.8559\n",
            "Epoch 65/100\n",
            "3010/3010 [==============================] - 93s 31ms/step - loss: 0.5671 - accuracy: 0.8580\n",
            "Epoch 66/100\n",
            "3010/3010 [==============================] - 93s 31ms/step - loss: 0.5667 - accuracy: 0.8582\n",
            "Epoch 67/100\n",
            "3010/3010 [==============================] - 93s 31ms/step - loss: 0.5548 - accuracy: 0.8608\n",
            "Epoch 68/100\n",
            "3010/3010 [==============================] - 93s 31ms/step - loss: 0.5567 - accuracy: 0.8599\n",
            "Epoch 69/100\n",
            "3010/3010 [==============================] - 93s 31ms/step - loss: 0.5555 - accuracy: 0.8597\n",
            "Epoch 70/100\n",
            "3010/3010 [==============================] - 93s 31ms/step - loss: 0.5514 - accuracy: 0.8616\n",
            "Epoch 71/100\n",
            "3010/3010 [==============================] - 94s 31ms/step - loss: 0.5486 - accuracy: 0.8614\n",
            "Epoch 72/100\n",
            "3010/3010 [==============================] - 94s 31ms/step - loss: 0.5455 - accuracy: 0.8620\n",
            "Epoch 73/100\n",
            "3010/3010 [==============================] - 94s 31ms/step - loss: 0.5430 - accuracy: 0.8632\n",
            "Epoch 74/100\n",
            "3010/3010 [==============================] - 94s 31ms/step - loss: 0.5403 - accuracy: 0.8626\n",
            "Epoch 75/100\n",
            "3010/3010 [==============================] - 94s 31ms/step - loss: 0.5382 - accuracy: 0.8629\n",
            "Epoch 76/100\n",
            "3010/3010 [==============================] - 94s 31ms/step - loss: 0.5432 - accuracy: 0.8612\n",
            "Epoch 77/100\n",
            "3010/3010 [==============================] - 93s 31ms/step - loss: 0.5367 - accuracy: 0.8635\n",
            "Epoch 78/100\n",
            "3010/3010 [==============================] - 94s 31ms/step - loss: 0.5372 - accuracy: 0.8625\n",
            "Epoch 79/100\n",
            "3010/3010 [==============================] - 94s 31ms/step - loss: 0.5348 - accuracy: 0.8624\n",
            "Epoch 80/100\n",
            "3010/3010 [==============================] - 94s 31ms/step - loss: 0.5308 - accuracy: 0.8634\n",
            "Epoch 81/100\n",
            "3010/3010 [==============================] - 94s 31ms/step - loss: 0.5334 - accuracy: 0.8621\n",
            "Epoch 82/100\n",
            "3010/3010 [==============================] - 94s 31ms/step - loss: 0.5272 - accuracy: 0.8652\n",
            "Epoch 83/100\n",
            "3010/3010 [==============================] - 93s 31ms/step - loss: 0.5246 - accuracy: 0.8655\n",
            "Epoch 84/100\n",
            "3010/3010 [==============================] - 94s 31ms/step - loss: 0.5226 - accuracy: 0.8650\n",
            "Epoch 85/100\n",
            "3010/3010 [==============================] - 94s 31ms/step - loss: 0.5191 - accuracy: 0.8657\n",
            "Epoch 86/100\n",
            "3010/3010 [==============================] - 94s 31ms/step - loss: 0.5276 - accuracy: 0.8634\n",
            "Epoch 87/100\n",
            "3010/3010 [==============================] - 94s 31ms/step - loss: 0.5217 - accuracy: 0.8642\n",
            "Epoch 88/100\n",
            "3010/3010 [==============================] - 93s 31ms/step - loss: 0.5211 - accuracy: 0.8651\n",
            "Epoch 89/100\n",
            "3010/3010 [==============================] - 94s 31ms/step - loss: 0.5218 - accuracy: 0.8646\n",
            "Epoch 90/100\n",
            "3010/3010 [==============================] - 94s 31ms/step - loss: 0.5204 - accuracy: 0.8641\n",
            "Epoch 91/100\n",
            "3010/3010 [==============================] - 94s 31ms/step - loss: 0.5207 - accuracy: 0.8641\n",
            "Epoch 92/100\n",
            "3010/3010 [==============================] - 94s 31ms/step - loss: 0.5101 - accuracy: 0.8684\n",
            "Epoch 93/100\n",
            "3010/3010 [==============================] - 95s 31ms/step - loss: 0.5226 - accuracy: 0.8636\n",
            "Epoch 94/100\n",
            "3010/3010 [==============================] - 94s 31ms/step - loss: 0.5146 - accuracy: 0.8650\n",
            "Epoch 95/100\n",
            "3010/3010 [==============================] - 94s 31ms/step - loss: 0.5134 - accuracy: 0.8657\n",
            "Epoch 96/100\n",
            "3010/3010 [==============================] - 95s 32ms/step - loss: 0.5129 - accuracy: 0.8651\n",
            "Epoch 97/100\n",
            "3010/3010 [==============================] - 94s 31ms/step - loss: 0.5131 - accuracy: 0.8648\n",
            "Epoch 98/100\n",
            "3010/3010 [==============================] - 94s 31ms/step - loss: 0.5111 - accuracy: 0.8657\n",
            "Epoch 99/100\n",
            "3010/3010 [==============================] - 94s 31ms/step - loss: 0.5136 - accuracy: 0.8642\n",
            "Epoch 100/100\n",
            "3010/3010 [==============================] - 94s 31ms/step - loss: 0.5143 - accuracy: 0.8647\n"
          ]
        },
        {
          "data": {
            "text/plain": [
              "<keras.src.callbacks.History at 0x7f8e7a3b39a0>"
            ]
          },
          "execution_count": 11,
          "metadata": {},
          "output_type": "execute_result"
        }
      ],
      "source": [
        "model.compile(loss='categorical_crossentropy', optimizer='adam', metrics=['accuracy'])\n",
        "model.fit(X, y, epochs=100, verbose=1)"
      ]
    },
    {
      "cell_type": "code",
      "execution_count": 17,
      "metadata": {
        "colab": {
          "base_uri": "https://localhost:8080/"
        },
        "id": "SSPH0Uk8SdUC",
        "outputId": "39a0b2c1-1091-4321-f92d-822d90319f1d"
      },
      "outputs": [
        {
          "name": "stdout",
          "output_type": "stream",
          "text": [
            "1/1 [==============================] - 0s 35ms/step\n",
            "1/1 [==============================] - 0s 20ms/step\n",
            "1/1 [==============================] - 0s 19ms/step\n",
            "I will leave if they marry before he go\n"
          ]
        }
      ],
      "source": [
        "seed_text = \"I will leave if they marry\"\n",
        "next_words = 3\n",
        "\n",
        "for _ in range(next_words):\n",
        "    token_list = tokenizer.texts_to_sequences([seed_text])[0]\n",
        "    token_list = pad_sequences([token_list], maxlen=max_sequence_len-1, padding='pre')\n",
        "    predicted = np.argmax(model.predict(token_list), axis=-1)\n",
        "    output_word = \"\"\n",
        "    for word, index in tokenizer.word_index.items():\n",
        "        if index == predicted:\n",
        "            output_word = word\n",
        "            break\n",
        "    seed_text += \" \" + output_word\n",
        "\n",
        "print(seed_text)"
      ]
    }
  ],
  "metadata": {
    "colab": {
      "provenance": []
    },
    "kernelspec": {
      "display_name": "Python 3",
      "name": "python3"
    },
    "language_info": {
      "name": "python"
    }
  },
  "nbformat": 4,
  "nbformat_minor": 0
}
